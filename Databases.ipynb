{
 "cells": [
  {
   "cell_type": "code",
   "execution_count": 1,
   "metadata": {},
   "outputs": [
    {
     "name": "stdout",
     "output_type": "stream",
     "text": [
      "Why Databases ?\n"
     ]
    }
   ],
   "source": [
    "print(\"Why Databases ?\")"
   ]
  },
  {
   "cell_type": "markdown",
   "metadata": {},
   "source": [
    "Data"
   ]
  },
  {
   "cell_type": "markdown",
   "metadata": {},
   "source": [
    "**ETL**"
   ]
  },
  {
   "cell_type": "markdown",
   "metadata": {},
   "source": [
    "files systems"
   ]
  },
  {
   "cell_type": "markdown",
   "metadata": {},
   "source": [
    "redudendecy\n",
    "have to right custom programs to insert and update data"
   ]
  },
  {
   "cell_type": "code",
   "execution_count": 6,
   "metadata": {},
   "outputs": [
    {
     "name": "stdout",
     "output_type": "stream",
     "text": [
      "Writing info.txt\n"
     ]
    }
   ],
   "source": [
    "%%writefile info.txt\n",
    "sachin,40,50\n",
    "rajat,30,45\n",
    "manish,50,50"
   ]
  },
  {
   "cell_type": "code",
   "execution_count": 7,
   "metadata": {},
   "outputs": [
    {
     "name": "stdout",
     "output_type": "stream",
     "text": [
      "Enter your name: sachin\n",
      "Enter maths marks: 40\n",
      "Enter Science marks: 50\n"
     ]
    }
   ],
   "source": [
    "name = input(\"Enter your name: \")\n",
    "math  = input(\"Enter maths marks: \")\n",
    "sci = input(\"Enter Science marks: \")\n",
    "row = f\"\\n{name},{math},{sci}\""
   ]
  },
  {
   "cell_type": "code",
   "execution_count": 8,
   "metadata": {},
   "outputs": [],
   "source": [
    "with open('info.txt', 'a') as fp:\n",
    "    fp.write(row)\n",
    "    fp.close()"
   ]
  },
  {
   "cell_type": "code",
   "execution_count": 9,
   "metadata": {},
   "outputs": [
    {
     "name": "stdout",
     "output_type": "stream",
     "text": [
      "sachin,40,50\n",
      "rajat,30,45\n",
      "manish,50,50\n",
      "\n",
      "sachin,40,50\n"
     ]
    }
   ],
   "source": [
    "!head info.txt"
   ]
  },
  {
   "cell_type": "code",
   "execution_count": 10,
   "metadata": {},
   "outputs": [],
   "source": [
    "fp = open('info.txt')\n",
    "data = fp.read()"
   ]
  },
  {
   "cell_type": "code",
   "execution_count": 11,
   "metadata": {},
   "outputs": [
    {
     "data": {
      "text/plain": [
       "'sachin,40,50\\nrajat,30,45\\nmanish,50,50\\n\\nsachin,40,50'"
      ]
     },
     "execution_count": 11,
     "metadata": {},
     "output_type": "execute_result"
    }
   ],
   "source": [
    "data"
   ]
  },
  {
   "cell_type": "code",
   "execution_count": 25,
   "metadata": {},
   "outputs": [],
   "source": [
    "def proces_data(data):\n",
    "    data = data.split('\\n')\n",
    "    lines = []\n",
    "    for line in data:\n",
    "        line = line.split(',')\n",
    "        if len(line) > 2:\n",
    "            line[1:] = list(map(int, line[1:]))\n",
    "            lines.append(line)\n",
    "    return lines"
   ]
  },
  {
   "cell_type": "code",
   "execution_count": 17,
   "metadata": {},
   "outputs": [
    {
     "ename": "SyntaxError",
     "evalue": "invalid syntax (<ipython-input-17-83acde9aad19>, line 1)",
     "output_type": "error",
     "traceback": [
      "\u001b[1;36m  File \u001b[1;32m\"<ipython-input-17-83acde9aad19>\"\u001b[1;36m, line \u001b[1;32m1\u001b[0m\n\u001b[1;33m    data.split('\\n'))\u001b[0m\n\u001b[1;37m                    ^\u001b[0m\n\u001b[1;31mSyntaxError\u001b[0m\u001b[1;31m:\u001b[0m invalid syntax\n"
     ]
    }
   ],
   "source": [
    "data.split('\\n'))"
   ]
  },
  {
   "cell_type": "code",
   "execution_count": 26,
   "metadata": {},
   "outputs": [],
   "source": [
    "psdata = proces_data(data)"
   ]
  },
  {
   "cell_type": "code",
   "execution_count": 27,
   "metadata": {},
   "outputs": [
    {
     "data": {
      "text/plain": [
       "[['sachin', 40, 50], ['rajat', 30, 45], ['manish', 50, 50], ['sachin', 40, 50]]"
      ]
     },
     "execution_count": 27,
     "metadata": {},
     "output_type": "execute_result"
    }
   ],
   "source": [
    "psdata"
   ]
  },
  {
   "cell_type": "code",
   "execution_count": 28,
   "metadata": {},
   "outputs": [
    {
     "data": {
      "text/plain": [
       "50"
      ]
     },
     "execution_count": 28,
     "metadata": {},
     "output_type": "execute_result"
    }
   ],
   "source": [
    "max([ d[2] for d in psdata])"
   ]
  },
  {
   "cell_type": "markdown",
   "metadata": {},
   "source": [
    "data -->\n",
    "\n",
    "    structured data\n",
    "    unstructured data\n",
    "    \n",
    "    semi-structured data (mongo db, dict)"
   ]
  },
  {
   "cell_type": "markdown",
   "metadata": {},
   "source": [
    "database --> application to store and process data"
   ]
  },
  {
   "cell_type": "raw",
   "metadata": {},
   "source": [
    "table ? row and columns\n",
    "row --> tuple --> inforamation about a single enity\n",
    "column --> attributes"
   ]
  },
  {
   "cell_type": "markdown",
   "metadata": {},
   "source": [
    "CURD"
   ]
  },
  {
   "cell_type": "raw",
   "metadata": {},
   "source": [
    "DDL --> Data Defination Language\n",
    "    create \n",
    "    alter \n",
    "    drop\n",
    "    turncate\n",
    "DML --> \n",
    "    insert\n",
    "    update\n",
    "    delete\n",
    "    select\n",
    "TCL --> \n",
    "    commit\n",
    "    rollback\n",
    "DCL --> \n",
    "    grant\n",
    "    revoke\n",
    "    "
   ]
  },
  {
   "cell_type": "markdown",
   "metadata": {},
   "source": [
    "https://github.com/sachinyadav3496/Datasets"
   ]
  },
  {
   "cell_type": "markdown",
   "metadata": {},
   "source": [
    "!python -m pip install pymysql"
   ]
  },
  {
   "cell_type": "code",
   "execution_count": 30,
   "metadata": {},
   "outputs": [],
   "source": [
    "import pymysql"
   ]
  },
  {
   "cell_type": "code",
   "execution_count": 31,
   "metadata": {},
   "outputs": [],
   "source": [
    "connection = pymysql.connect('localhost',\n",
    "                            'sachin',\n",
    "                            'redhat',\n",
    "                            'infytq')"
   ]
  },
  {
   "cell_type": "code",
   "execution_count": 32,
   "metadata": {},
   "outputs": [],
   "source": [
    "cur = connection.cursor()"
   ]
  },
  {
   "cell_type": "code",
   "execution_count": 33,
   "metadata": {},
   "outputs": [],
   "source": [
    "cmd = \"SHOW TABLES\""
   ]
  },
  {
   "cell_type": "code",
   "execution_count": 34,
   "metadata": {},
   "outputs": [
    {
     "data": {
      "text/plain": [
       "1"
      ]
     },
     "execution_count": 34,
     "metadata": {},
     "output_type": "execute_result"
    }
   ],
   "source": [
    "cur.execute(cmd)"
   ]
  },
  {
   "cell_type": "code",
   "execution_count": 35,
   "metadata": {},
   "outputs": [],
   "source": [
    "data= cur.fetchall()"
   ]
  },
  {
   "cell_type": "code",
   "execution_count": 36,
   "metadata": {},
   "outputs": [
    {
     "data": {
      "text/plain": [
       "(('student',),)"
      ]
     },
     "execution_count": 36,
     "metadata": {},
     "output_type": "execute_result"
    }
   ],
   "source": [
    "data"
   ]
  },
  {
   "cell_type": "code",
   "execution_count": 37,
   "metadata": {},
   "outputs": [
    {
     "data": {
      "text/plain": [
       "4"
      ]
     },
     "execution_count": 37,
     "metadata": {},
     "output_type": "execute_result"
    }
   ],
   "source": [
    "cur.execute('describe student')"
   ]
  },
  {
   "cell_type": "code",
   "execution_count": 38,
   "metadata": {},
   "outputs": [],
   "source": [
    "data = cur.fetchall()"
   ]
  },
  {
   "cell_type": "code",
   "execution_count": 40,
   "metadata": {},
   "outputs": [
    {
     "name": "stdout",
     "output_type": "stream",
     "text": [
      "('name', 'varchar(100)', 'NO', '', None, '')\n",
      "('sid', 'int(12)', 'NO', 'PRI', None, '')\n",
      "('maths', 'int(11)', 'YES', '', None, '')\n",
      "('sci', 'int(11)', 'YES', '', None, '')\n"
     ]
    }
   ],
   "source": [
    "print(*data, sep='\\n')"
   ]
  },
  {
   "cell_type": "code",
   "execution_count": 42,
   "metadata": {},
   "outputs": [
    {
     "data": {
      "text/plain": [
       "6"
      ]
     },
     "execution_count": 42,
     "metadata": {},
     "output_type": "execute_result"
    }
   ],
   "source": [
    "cur.execute('select * from student')"
   ]
  },
  {
   "cell_type": "code",
   "execution_count": 43,
   "metadata": {},
   "outputs": [],
   "source": [
    "data = cur.fetchall()"
   ]
  },
  {
   "cell_type": "code",
   "execution_count": 44,
   "metadata": {},
   "outputs": [
    {
     "data": {
      "text/plain": [
       "(('abcd', 1, None, None),\n",
       " ('sachin', 2, 40, 50),\n",
       " ('rajat', 3, 50, 60),\n",
       " ('manish', 4, 70, 56),\n",
       " ('kushal', 5, 66, 45),\n",
       " ('simran', 6, 70, 80))"
      ]
     },
     "execution_count": 44,
     "metadata": {},
     "output_type": "execute_result"
    }
   ],
   "source": [
    "data"
   ]
  },
  {
   "cell_type": "code",
   "execution_count": 48,
   "metadata": {},
   "outputs": [
    {
     "data": {
      "text/plain": [
       "1"
      ]
     },
     "execution_count": 48,
     "metadata": {},
     "output_type": "execute_result"
    }
   ],
   "source": [
    "cur.execute('update student set maths=90 where \\\n",
    "name=\"sachin\"')"
   ]
  },
  {
   "cell_type": "code",
   "execution_count": 49,
   "metadata": {},
   "outputs": [],
   "source": [
    "connection.commit()"
   ]
  },
  {
   "cell_type": "code",
   "execution_count": 45,
   "metadata": {},
   "outputs": [
    {
     "data": {
      "text/plain": [
       "1"
      ]
     },
     "execution_count": 45,
     "metadata": {},
     "output_type": "execute_result"
    }
   ],
   "source": [
    "cur.execute('insert into student values\\\n",
    "(\"yadvendra\", 7, 50, 60)')"
   ]
  },
  {
   "cell_type": "code",
   "execution_count": 46,
   "metadata": {},
   "outputs": [],
   "source": [
    "connection.commit()"
   ]
  },
  {
   "cell_type": "code",
   "execution_count": null,
   "metadata": {},
   "outputs": [],
   "source": []
  },
  {
   "cell_type": "code",
   "execution_count": 50,
   "metadata": {},
   "outputs": [
    {
     "data": {
      "text/plain": [
       "7"
      ]
     },
     "execution_count": 50,
     "metadata": {},
     "output_type": "execute_result"
    }
   ],
   "source": [
    "cur.execute('select * from student')"
   ]
  },
  {
   "cell_type": "code",
   "execution_count": 62,
   "metadata": {},
   "outputs": [],
   "source": [
    "def get_data(cmd):\n",
    "    cur.execute(cmd)\n",
    "    for t in cur.fetchall():\n",
    "        print(*t, sep='\\t')"
   ]
  },
  {
   "cell_type": "code",
   "execution_count": 52,
   "metadata": {},
   "outputs": [
    {
     "data": {
      "text/plain": [
       "1"
      ]
     },
     "execution_count": 52,
     "metadata": {},
     "output_type": "execute_result"
    }
   ],
   "source": [
    "cur.execute('delete from student where sid=1')"
   ]
  },
  {
   "cell_type": "code",
   "execution_count": 54,
   "metadata": {},
   "outputs": [
    {
     "name": "stdout",
     "output_type": "stream",
     "text": [
      "sachin\t2\t90\t50\n",
      "rajat\t3\t50\t60\n",
      "manish\t4\t70\t56\n",
      "kushal\t5\t66\t45\n",
      "simran\t6\t70\t80\n",
      "yadvendra\t7\t50\t60\n"
     ]
    }
   ],
   "source": [
    "get_data()"
   ]
  },
  {
   "cell_type": "code",
   "execution_count": 55,
   "metadata": {},
   "outputs": [],
   "source": [
    "connection.rollback()"
   ]
  },
  {
   "cell_type": "code",
   "execution_count": 56,
   "metadata": {},
   "outputs": [
    {
     "name": "stdout",
     "output_type": "stream",
     "text": [
      "abcd\t1\tNone\tNone\n",
      "sachin\t2\t90\t50\n",
      "rajat\t3\t50\t60\n",
      "manish\t4\t70\t56\n",
      "kushal\t5\t66\t45\n",
      "simran\t6\t70\t80\n",
      "yadvendra\t7\t50\t60\n"
     ]
    }
   ],
   "source": [
    "get_data()"
   ]
  },
  {
   "cell_type": "code",
   "execution_count": 57,
   "metadata": {},
   "outputs": [
    {
     "data": {
      "text/plain": [
       "0"
      ]
     },
     "execution_count": 57,
     "metadata": {},
     "output_type": "execute_result"
    }
   ],
   "source": [
    "cur.execute('truncate student')"
   ]
  },
  {
   "cell_type": "code",
   "execution_count": 58,
   "metadata": {},
   "outputs": [],
   "source": [
    "get_data()"
   ]
  },
  {
   "cell_type": "code",
   "execution_count": 59,
   "metadata": {},
   "outputs": [
    {
     "data": {
      "text/plain": [
       "0"
      ]
     },
     "execution_count": 59,
     "metadata": {},
     "output_type": "execute_result"
    }
   ],
   "source": [
    "cur.execute('commit')"
   ]
  },
  {
   "cell_type": "code",
   "execution_count": 60,
   "metadata": {},
   "outputs": [
    {
     "data": {
      "text/plain": [
       "1"
      ]
     },
     "execution_count": 60,
     "metadata": {},
     "output_type": "execute_result"
    }
   ],
   "source": [
    "cur.execute('show tables')"
   ]
  },
  {
   "cell_type": "code",
   "execution_count": 61,
   "metadata": {},
   "outputs": [
    {
     "data": {
      "text/plain": [
       "('student',)"
      ]
     },
     "execution_count": 61,
     "metadata": {},
     "output_type": "execute_result"
    }
   ],
   "source": [
    "cur.fetchone()"
   ]
  },
  {
   "cell_type": "code",
   "execution_count": 63,
   "metadata": {},
   "outputs": [
    {
     "name": "stdout",
     "output_type": "stream",
     "text": [
      "name\tvarchar(100)\tNO\t\tNone\t\n",
      "sid\tint(12)\tNO\tPRI\tNone\t\n",
      "maths\tint(11)\tYES\t\tNone\t\n",
      "sci\tint(11)\tYES\t\tNone\t\n"
     ]
    }
   ],
   "source": [
    "get_data('describe student')"
   ]
  },
  {
   "cell_type": "code",
   "execution_count": 64,
   "metadata": {},
   "outputs": [
    {
     "data": {
      "text/plain": [
       "0"
      ]
     },
     "execution_count": 64,
     "metadata": {},
     "output_type": "execute_result"
    }
   ],
   "source": [
    "cur.execute(\"drop table student\")"
   ]
  },
  {
   "cell_type": "code",
   "execution_count": 65,
   "metadata": {},
   "outputs": [],
   "source": [
    "connection.commit()"
   ]
  },
  {
   "cell_type": "code",
   "execution_count": 66,
   "metadata": {},
   "outputs": [],
   "source": [
    "get_data('show tables')"
   ]
  },
  {
   "cell_type": "code",
   "execution_count": 67,
   "metadata": {},
   "outputs": [],
   "source": [
    "cur.close()\n",
    "connection.close()"
   ]
  },
  {
   "cell_type": "code",
   "execution_count": 69,
   "metadata": {},
   "outputs": [],
   "source": [
    "con = pymysql.connect(\n",
    "host = 'localhost',\n",
    "port = 3306,\n",
    "user = 'root',\n",
    "password = '',\n",
    ")"
   ]
  },
  {
   "cell_type": "code",
   "execution_count": 70,
   "metadata": {},
   "outputs": [],
   "source": [
    "cur = con.cursor()"
   ]
  },
  {
   "cell_type": "raw",
   "metadata": {},
   "source": [
    "revoke all privileges on infytq.* from 'sachin'@'localhost';"
   ]
  },
  {
   "cell_type": "code",
   "execution_count": 74,
   "metadata": {},
   "outputs": [],
   "source": [
    "#cur.execute('REVOKE ALL PRIVILEGES ON \\\n",
    "#infytq.* from \"sachin\"@\"localhost\"')"
   ]
  },
  {
   "cell_type": "markdown",
   "metadata": {},
   "source": []
  },
  {
   "cell_type": "code",
   "execution_count": 78,
   "metadata": {},
   "outputs": [],
   "source": [
    "con = pymysql.connect(\n",
    "    host='192.168.73.131',\n",
    "    port = 3306,\n",
    "    user = 'demo',\n",
    "    password = 'redhat',\n",
    "    database = 'world'\n",
    ")"
   ]
  },
  {
   "cell_type": "code",
   "execution_count": 79,
   "metadata": {},
   "outputs": [],
   "source": [
    "cur = con.cursor()"
   ]
  },
  {
   "cell_type": "code",
   "execution_count": 80,
   "metadata": {},
   "outputs": [
    {
     "name": "stdout",
     "output_type": "stream",
     "text": [
      "City\n",
      "Country\n",
      "CountryLanguage\n"
     ]
    }
   ],
   "source": [
    "get_data('show tables;')"
   ]
  },
  {
   "cell_type": "markdown",
   "metadata": {},
   "source": [
    "Query"
   ]
  },
  {
   "cell_type": "code",
   "execution_count": 82,
   "metadata": {},
   "outputs": [
    {
     "name": "stdout",
     "output_type": "stream",
     "text": [
      "Code\tchar(3)\tNO\tPRI\t\t\n",
      "Name\tchar(52)\tNO\t\t\t\n",
      "Continent\tenum('Asia','Europe','North America','Africa','Oceania','Antarctica','South America')\tNO\t\tAsia\t\n",
      "Region\tchar(26)\tNO\t\t\t\n",
      "SurfaceArea\tfloat(10,2)\tNO\t\t0.00\t\n",
      "IndepYear\tsmallint(6)\tYES\t\tNone\t\n",
      "Population\tint(11)\tNO\t\t0\t\n",
      "LifeExpectancy\tfloat(3,1)\tYES\t\tNone\t\n",
      "GNP\tfloat(10,2)\tYES\t\tNone\t\n",
      "GNPOld\tfloat(10,2)\tYES\t\tNone\t\n",
      "LocalName\tchar(45)\tNO\t\t\t\n",
      "GovernmentForm\tchar(45)\tNO\t\t\t\n",
      "HeadOfState\tchar(60)\tYES\t\tNone\t\n",
      "Capital\tint(11)\tYES\t\tNone\t\n",
      "Code2\tchar(2)\tNO\t\t\t\n"
     ]
    }
   ],
   "source": [
    "get_data('describe Country')"
   ]
  },
  {
   "cell_type": "code",
   "execution_count": 84,
   "metadata": {},
   "outputs": [
    {
     "name": "stdout",
     "output_type": "stream",
     "text": [
      "239\n"
     ]
    }
   ],
   "source": [
    "get_data(\"select count(*) from Country\")"
   ]
  },
  {
   "cell_type": "code",
   "execution_count": 85,
   "metadata": {},
   "outputs": [
    {
     "name": "stdout",
     "output_type": "stream",
     "text": [
      "Aruba\t103000\n",
      "Afghanistan\t22720000\n",
      "Angola\t12878000\n",
      "Anguilla\t8000\n",
      "Albania\t3401200\n"
     ]
    }
   ],
   "source": [
    "cmd = \"SELECT name,population from Country limit 5\"\n",
    "get_data(cmd)"
   ]
  },
  {
   "cell_type": "code",
   "execution_count": 87,
   "metadata": {},
   "outputs": [
    {
     "name": "stdout",
     "output_type": "stream",
     "text": [
      "China\t1277558000\n",
      "India\t1013662000\n",
      "United States\t278357000\n",
      "Indonesia\t212107000\n",
      "Brazil\t170115000\n",
      "Pakistan\t156483000\n",
      "Russian Federation\t146934000\n",
      "Bangladesh\t129155000\n",
      "Japan\t126714000\n",
      "Nigeria\t111506000\n"
     ]
    }
   ],
   "source": [
    "cmd = \"SELECT name,population from Country order by \\\n",
    "population DESC limit 10\"\n",
    "get_data(cmd)"
   ]
  },
  {
   "cell_type": "code",
   "execution_count": 88,
   "metadata": {},
   "outputs": [
    {
     "name": "stdout",
     "output_type": "stream",
     "text": [
      "French Southern territories\t0\n",
      "Heard Island and McDonald Islands\t0\n",
      "United States Minor Outlying Islands\t0\n",
      "South Georgia and the South Sandwich Islands\t0\n",
      "Bouvet Island\t0\n",
      "British Indian Ocean Territory\t0\n",
      "Antarctica\t0\n",
      "Pitcairn\t50\n",
      "Cocos (Keeling) Islands\t600\n",
      "Holy See (Vatican City State)\t1000\n"
     ]
    }
   ],
   "source": [
    "cmd = \"SELECT name,population from Country order by \\\n",
    "population ASC limit 10\"\n",
    "get_data(cmd)"
   ]
  },
  {
   "cell_type": "code",
   "execution_count": 89,
   "metadata": {},
   "outputs": [],
   "source": [
    "cmd = \"select name from Country where IndepYear = 1947\""
   ]
  },
  {
   "cell_type": "code",
   "execution_count": 90,
   "metadata": {},
   "outputs": [
    {
     "name": "stdout",
     "output_type": "stream",
     "text": [
      "India\n",
      "Pakistan\n"
     ]
    }
   ],
   "source": [
    "get_data(cmd)"
   ]
  },
  {
   "cell_type": "code",
   "execution_count": 99,
   "metadata": {},
   "outputs": [],
   "source": [
    "cmd = \"select name,IndepYear from Country where IndepYear \\\n",
    "BETWEEN 1940 AND 1950 \""
   ]
  },
  {
   "cell_type": "code",
   "execution_count": 98,
   "metadata": {},
   "outputs": [
    {
     "name": "stdout",
     "output_type": "stream",
     "text": [
      "Indonesia\t1945\n",
      "India\t1947\n",
      "Iceland\t1944\n",
      "Israel\t1948\n",
      "Jordan\t1946\n",
      "South Korea\t1948\n",
      "Lebanon\t1941\n",
      "Sri Lanka\t1948\n",
      "Myanmar\t1948\n",
      "Pakistan\t1947\n",
      "Philippines\t1946\n",
      "North Korea\t1948\n",
      "Syria\t1941\n",
      "Taiwan\t1945\n",
      "Vietnam\t1945\n"
     ]
    }
   ],
   "source": [
    "get_data(cmd)"
   ]
  },
  {
   "cell_type": "code",
   "execution_count": null,
   "metadata": {},
   "outputs": [],
   "source": []
  }
 ],
 "metadata": {
  "kernelspec": {
   "display_name": "Python 3",
   "language": "python",
   "name": "python3"
  },
  "language_info": {
   "codemirror_mode": {
    "name": "ipython",
    "version": 3
   },
   "file_extension": ".py",
   "mimetype": "text/x-python",
   "name": "python",
   "nbconvert_exporter": "python",
   "pygments_lexer": "ipython3",
   "version": "3.7.4"
  }
 },
 "nbformat": 4,
 "nbformat_minor": 2
}
